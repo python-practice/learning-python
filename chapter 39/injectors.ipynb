{
 "cells": [
  {
   "cell_type": "markdown",
   "metadata": {},
   "source": [
    "###Simple Injector"
   ]
  },
  {
   "cell_type": "code",
   "execution_count": 83,
   "metadata": {
    "collapsed": false
   },
   "outputs": [
    {
     "name": "stdout",
     "output_type": "stream",
     "text": [
      "('a', 'b')\n"
     ]
    },
    {
     "data": {
      "text/plain": [
       "[1, 2, 3, 3, 4]"
      ]
     },
     "execution_count": 83,
     "metadata": {},
     "output_type": "execute_result"
    }
   ],
   "source": [
    "\"a b c\".split()\n",
    "d = {'a': 5, 'b': 6}\n",
    "def p_d(*args):\n",
    "    print args\n",
    "p_d(*d)\n",
    "\n",
    "a = [1,2,3]\n",
    "b = [3,4]\n",
    "a.extend(b)\n",
    "a"
   ]
  },
  {
   "cell_type": "code",
   "execution_count": 33,
   "metadata": {
    "collapsed": false
   },
   "outputs": [
    {
     "name": "stdout",
     "output_type": "stream",
     "text": [
      "func called with 5,True\n"
     ]
    }
   ],
   "source": [
    "from functools import partial\n",
    "        \n",
    "app = {\n",
    "    'a': 5,\n",
    "    'b': True\n",
    "}\n",
    "\n",
    "def inject(dependencies=None):        \n",
    "    def injection(F):\n",
    "        kwargs = dict([(item, app[item]) for item in dependencies]) \n",
    "        \n",
    "        def injected(x, a=None, b=None):\n",
    "            if a is not None:\n",
    "                kwargs.update(a=a)\n",
    "            if b is not None:\n",
    "                kwargs.update(b=b)\n",
    "        \n",
    "            return F(x, **kwargs)\n",
    "        \n",
    "        return injected    \n",
    "    return injection\n",
    "\n",
    "@inject(dependencies=('a','b'))\n",
    "def func(x, a=None, b=None):\n",
    "    print \"func called with {0},{1}\".format(a, b)\n",
    "    \n",
    "func(\"zzz\")"
   ]
  },
  {
   "cell_type": "markdown",
   "metadata": {},
   "source": [
    "###Object bound injector"
   ]
  },
  {
   "cell_type": "code",
   "execution_count": 88,
   "metadata": {
    "collapsed": false
   },
   "outputs": [
    {
     "name": "stdout",
     "output_type": "stream",
     "text": [
      "log_a_b\n",
      "a=7, b=False, c=zzz\n"
     ]
    }
   ],
   "source": [
    "from functools import wraps\n",
    "class App(object):\n",
    "    def __init__(self):\n",
    "        self.a=55\n",
    "        self.b=False\n",
    "        self.c=\"!!!\"\n",
    "        \n",
    "    def inject(self, *names_to_inject):\n",
    "        def _inject(func):\n",
    "            @wraps(func)\n",
    "            def injected(*args, **kwargs):\n",
    "                to_inject = dict([(name, getattr(self, name)) \n",
    "                                  for name in names_to_inject])\n",
    "                \n",
    "                to_inject.update(kwargs)\n",
    "                kwargs = to_inject\n",
    "                return func(**kwargs)\n",
    "            return injected\n",
    "        return _inject\n",
    "        \n",
    "\n",
    "        \n",
    "app = App()\n",
    "\n",
    "@app.inject('a', 'b')\n",
    "def log_a_b(a=None, b=None, c=None):\n",
    "    print \"a={0}, b={1}, c={2}\".format(a, b, c)\n",
    "    \n",
    "print log_a_b.__name__\n",
    "log_a_b(a=7, c=\"zzz\")"
   ]
  },
  {
   "cell_type": "markdown",
   "metadata": {},
   "source": [
    "###Function Params Introspection"
   ]
  },
  {
   "cell_type": "markdown",
   "metadata": {},
   "source": [
    "###Smart Injector"
   ]
  }
 ],
 "metadata": {
  "kernelspec": {
   "display_name": "Python 2",
   "language": "python",
   "name": "python2"
  },
  "language_info": {
   "codemirror_mode": {
    "name": "ipython",
    "version": 2
   },
   "file_extension": ".py",
   "mimetype": "text/x-python",
   "name": "python",
   "nbconvert_exporter": "python",
   "pygments_lexer": "ipython2",
   "version": "2.7.10"
  }
 },
 "nbformat": 4,
 "nbformat_minor": 0
}
