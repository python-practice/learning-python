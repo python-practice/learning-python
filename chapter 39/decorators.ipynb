{
 "cells": [
  {
   "cell_type": "markdown",
   "metadata": {},
   "source": [
    "###Simple Decorator"
   ]
  },
  {
   "cell_type": "code",
   "execution_count": 5,
   "metadata": {
    "collapsed": false
   },
   "outputs": [
    {
     "name": "stdout",
     "output_type": "stream",
     "text": [
      "simple_def_decorator for func1\n"
     ]
    }
   ],
   "source": [
    "import sys\n",
    "\n",
    "def simple_def_decorator(F):\n",
    "    decorator_name = sys._getframe().f_code.co_name \n",
    "    function_name = F.__name__\n",
    "    print \"{0} for {1}\".format(decorator_name, function_name)\n",
    "    return F\n",
    "\n",
    "@simple_def_decorator\n",
    "def func1():\n",
    "    pass\n",
    "\n",
    "func1()"
   ]
  },
  {
   "cell_type": "code",
   "execution_count": 9,
   "metadata": {
    "collapsed": false
   },
   "outputs": [
    {
     "name": "stdout",
     "output_type": "stream",
     "text": [
      "def time: simple_call_decorator for func2\n",
      "call time: func2\n",
      "func2 called\n"
     ]
    }
   ],
   "source": [
    "def simple_call_decorator(F):\n",
    "    decorator_name = sys._getframe().f_code.co_name \n",
    "    function_name = F.__name__\n",
    "    print \"def time: {0} for {1}\".format(decorator_name, function_name)\n",
    "    \n",
    "    def wrapper():\n",
    "        msg = \"call time: {0}\"\n",
    "        print msg.format(F.__name__)\n",
    "        F()\n",
    "    \n",
    "    return wrapper\n",
    "\n",
    "@simple_call_decorator\n",
    "def func2():\n",
    "    print \"{0} called\".format(sys._getframe().f_code.co_name)\n",
    "\n",
    "func2()"
   ]
  },
  {
   "cell_type": "code",
   "execution_count": 16,
   "metadata": {
    "collapsed": false
   },
   "outputs": [
    {
     "name": "stdout",
     "output_type": "stream",
     "text": [
      "def time: simple_invocation_callable_decorator()\n",
      "def time: simple_call_decorator for func3\n",
      "call time: func3\n",
      "func3 called\n"
     ]
    }
   ],
   "source": [
    "def simple_invocation_callable_decorator():\n",
    "    decorator_name = sys._getframe().f_code.co_name \n",
    "    print \"def time: {0}()\".format(decorator_name)\n",
    "        \n",
    "    def simple_call_decorator(F):\n",
    "        decorator_name = sys._getframe().f_code.co_name \n",
    "        function_name = F.__name__\n",
    "        print \"def time: {0} for {1}\".format(decorator_name, function_name)\n",
    "    \n",
    "        def wrapper():\n",
    "            msg = \"call time: {0}\"\n",
    "            print msg.format(F.__name__)\n",
    "            F()\n",
    "    \n",
    "        return wrapper\n",
    "    \n",
    "    return simple_call_decorator\n",
    "\n",
    "@simple_invocation_callable_decorator()\n",
    "def func3():\n",
    "    print \"{0} called\".format(sys._getframe().f_code.co_name)\n",
    "    \n",
    "func3()"
   ]
  },
  {
   "cell_type": "code",
   "execution_count": 26,
   "metadata": {
    "collapsed": false
   },
   "outputs": [
    {
     "name": "stdout",
     "output_type": "stream",
     "text": [
      "def time: parameterized_decorator()\n",
      "def time: simple_call_decorator for func3\n",
      "call time: func3 debug=True\n",
      "func3 called\n"
     ]
    }
   ],
   "source": [
    "def parameterized_decorator(debug=False):\n",
    "    decorator_name = sys._getframe().f_code.co_name \n",
    "    print \"def time: {0}()\".format(decorator_name)\n",
    "    #print \"debug={0}\".format(debug)\n",
    "        \n",
    "    def simple_call_decorator(F):\n",
    "        decorator_name = sys._getframe().f_code.co_name \n",
    "        function_name = F.__name__\n",
    "        print \"def time: {0} for {1}\".format(decorator_name, function_name)\n",
    "        #print \"debug={0}\".format(debug)\n",
    "    \n",
    "        def wrapper():\n",
    "            msg = \"call time: {0}\"\n",
    "            print msg.format(F.__name__),\n",
    "            print \"debug={0}\".format(debug)\n",
    "            F()\n",
    "    \n",
    "        return wrapper\n",
    "    \n",
    "    return simple_call_decorator\n",
    "\n",
    "@parameterized_decorator(debug=True)\n",
    "def func3():\n",
    "    print \"{0} called\".format(sys._getframe().f_code.co_name)\n",
    "    \n",
    "func3()"
   ]
  },
  {
   "cell_type": "code",
   "execution_count": 28,
   "metadata": {
    "collapsed": false
   },
   "outputs": [
    {
     "name": "stdout",
     "output_type": "stream",
     "text": [
      "def time: parameterized_args_passing_decorator()\n",
      "def time: simple_call_decorator for func4\n",
      "call time: func4 debug=True\n",
      "func4 called with zzz\n"
     ]
    }
   ],
   "source": [
    "def parameterized_args_passing_decorator(debug=False):\n",
    "    decorator_name = sys._getframe().f_code.co_name \n",
    "    print \"def time: {0}()\".format(decorator_name)\n",
    "    #print \"debug={0}\".format(debug)\n",
    "        \n",
    "    def simple_call_decorator(F):\n",
    "        decorator_name = sys._getframe().f_code.co_name \n",
    "        function_name = F.__name__\n",
    "        print \"def time: {0} for {1}\".format(decorator_name, function_name)\n",
    "        #print \"debug={0}\".format(debug)\n",
    "    \n",
    "        def wrapper(arg1):\n",
    "            msg = \"call time: {0}\"\n",
    "            print msg.format(F.__name__),\n",
    "            print \"debug={0}\".format(debug)\n",
    "            F(arg1)\n",
    "    \n",
    "        return wrapper\n",
    "    \n",
    "    return simple_call_decorator\n",
    "\n",
    "@parameterized_args_passing_decorator(debug=True)\n",
    "def func4(arg1):\n",
    "    print \"{0} called with {1}\".format(sys._getframe().f_code.co_name, arg1)\n",
    "    \n",
    "func4(\"zzz\")"
   ]
  },
  {
   "cell_type": "code",
   "execution_count": null,
   "metadata": {
    "collapsed": true
   },
   "outputs": [],
   "source": []
  }
 ],
 "metadata": {
  "kernelspec": {
   "display_name": "Python 2",
   "language": "python",
   "name": "python2"
  },
  "language_info": {
   "codemirror_mode": {
    "name": "ipython",
    "version": 2
   },
   "file_extension": ".py",
   "mimetype": "text/x-python",
   "name": "python",
   "nbconvert_exporter": "python",
   "pygments_lexer": "ipython2",
   "version": "2.7.10"
  }
 },
 "nbformat": 4,
 "nbformat_minor": 0
}
