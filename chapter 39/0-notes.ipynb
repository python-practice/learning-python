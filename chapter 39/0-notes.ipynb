{
 "cells": [
  {
   "cell_type": "markdown",
   "metadata": {},
   "source": [
    "####Two flavors of Python decorators:\n",
    "\n",
    "* *Function decorators*\n",
    "* *Class decorators* \n",
    "\n",
    "###Roles\n",
    "\n",
    "####Wrapper/Proxy objects\n",
    "\n",
    "* Call proxies\n",
    "* Interface proxies\n",
    "\n",
    "####Managing Functions and Classes\n",
    "\n",
    "* Function managers\n",
    "* Class managers\n",
    "\n",
    "####Python built-in decorators\n",
    "\n",
    "* *static, class* method declarations\n",
    "* *property* creation\n",
    "\n",
    "###Typical use cases\n",
    "\n",
    "####Function decorators\n",
    "* call tracing, logging, profiling\n",
    "* argument validity testing\n",
    "* automatical lock aquiring/releasing\n",
    "\n",
    "####Class decorators\n",
    "* trace, validate etc. attribute references made to an object\n",
    "* proxy objects\n",
    "* singleton classes"
   ]
  },
  {
   "cell_type": "code",
   "execution_count": null,
   "metadata": {
    "collapsed": true
   },
   "outputs": [],
   "source": []
  }
 ],
 "metadata": {
  "kernelspec": {
   "display_name": "Python 2",
   "language": "python",
   "name": "python2"
  },
  "language_info": {
   "codemirror_mode": {
    "name": "ipython",
    "version": 2
   },
   "file_extension": ".py",
   "mimetype": "text/x-python",
   "name": "python",
   "nbconvert_exporter": "python",
   "pygments_lexer": "ipython2",
   "version": "2.7.10"
  }
 },
 "nbformat": 4,
 "nbformat_minor": 0
}
