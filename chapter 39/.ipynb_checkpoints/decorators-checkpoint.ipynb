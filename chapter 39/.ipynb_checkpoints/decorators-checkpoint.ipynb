{
 "cells": [
  {
   "cell_type": "markdown",
   "metadata": {},
   "source": [
    "###Simple Decorator"
   ]
  },
  {
   "cell_type": "code",
   "execution_count": 5,
   "metadata": {
    "collapsed": false
   },
   "outputs": [
    {
     "name": "stdout",
     "output_type": "stream",
     "text": [
      "simple_def_decorator for func1\n"
     ]
    }
   ],
   "source": [
    "import sys\n",
    "\n",
    "def simple_def_decorator(F):\n",
    "    decorator_name = sys._getframe().f_code.co_name \n",
    "    function_name = F.__name__\n",
    "    print \"{0} for {1}\".format(decorator_name, function_name)\n",
    "    return F\n",
    "\n",
    "@simple_def_decorator\n",
    "def func1():\n",
    "    pass\n",
    "\n",
    "func1()"
   ]
  },
  {
   "cell_type": "code",
   "execution_count": 9,
   "metadata": {
    "collapsed": false
   },
   "outputs": [
    {
     "name": "stdout",
     "output_type": "stream",
     "text": [
      "def time: simple_call_decorator for func2\n",
      "call time: func2\n",
      "func2 called\n"
     ]
    }
   ],
   "source": [
    "def simple_call_decorator(F):\n",
    "    decorator_name = sys._getframe().f_code.co_name \n",
    "    function_name = F.__name__\n",
    "    print \"def time: {0} for {1}\".format(decorator_name, function_name)\n",
    "    \n",
    "    def wrapper():\n",
    "        msg = \"call time: {0}\"\n",
    "        print msg.format(F.__name__)\n",
    "        F()\n",
    "    \n",
    "    return wrapper\n",
    "\n",
    "@simple_call_decorator\n",
    "def func2():\n",
    "    print \"{0} called\".format(sys._getframe().f_code.co_name)\n",
    "\n",
    "func2()"
   ]
  },
  {
   "cell_type": "code",
   "execution_count": 16,
   "metadata": {
    "collapsed": false
   },
   "outputs": [
    {
     "name": "stdout",
     "output_type": "stream",
     "text": [
      "def time: simple_invocation_callable_decorator()\n",
      "def time: simple_call_decorator for func3\n",
      "call time: func3\n",
      "func3 called\n"
     ]
    }
   ],
   "source": [
    "def simple_invocation_callable_decorator():\n",
    "    decorator_name = sys._getframe().f_code.co_name \n",
    "    print \"def time: {0}()\".format(decorator_name)\n",
    "        \n",
    "    def simple_call_decorator(F):\n",
    "        decorator_name = sys._getframe().f_code.co_name \n",
    "        function_name = F.__name__\n",
    "        print \"def time: {0} for {1}\".format(decorator_name, function_name)\n",
    "    \n",
    "        def wrapper():\n",
    "            msg = \"call time: {0}\"\n",
    "            print msg.format(F.__name__)\n",
    "            F()\n",
    "    \n",
    "        return wrapper\n",
    "    \n",
    "    return simple_call_decorator\n",
    "\n",
    "@simple_invocation_callable_decorator()\n",
    "def func3():\n",
    "    print \"{0} called\".format(sys._getframe().f_code.co_name)\n",
    "    \n",
    "func3()"
   ]
  },
  {
   "cell_type": "code",
   "execution_count": 18,
   "metadata": {
    "collapsed": false
   },
   "outputs": [
    {
     "ename": "TypeError",
     "evalue": "parameterized_invocation_callable_decorator() takes no arguments (1 given)",
     "output_type": "error",
     "traceback": [
      "\u001b[0;31m---------------------------------------------------------------------------\u001b[0m",
      "\u001b[0;31mTypeError\u001b[0m                                 Traceback (most recent call last)",
      "\u001b[0;32m<ipython-input-18-be6c8b757d57>\u001b[0m in \u001b[0;36m<module>\u001b[0;34m()\u001b[0m\n\u001b[1;32m     17\u001b[0m     \u001b[0;32mreturn\u001b[0m \u001b[0msimple_call_decorator\u001b[0m\u001b[0;34m\u001b[0m\u001b[0m\n\u001b[1;32m     18\u001b[0m \u001b[0;34m\u001b[0m\u001b[0m\n\u001b[0;32m---> 19\u001b[0;31m \u001b[0;34m@\u001b[0m\u001b[0mparameterized_invocation_callable_decorator\u001b[0m\u001b[0;34m(\u001b[0m\u001b[0mdebug\u001b[0m\u001b[0;34m=\u001b[0m\u001b[0mTrue\u001b[0m\u001b[0;34m)\u001b[0m\u001b[0;34m\u001b[0m\u001b[0m\n\u001b[0m\u001b[1;32m     20\u001b[0m \u001b[0;32mdef\u001b[0m \u001b[0mfunc3\u001b[0m\u001b[0;34m(\u001b[0m\u001b[0;34m)\u001b[0m\u001b[0;34m:\u001b[0m\u001b[0;34m\u001b[0m\u001b[0m\n\u001b[1;32m     21\u001b[0m     \u001b[0;32mprint\u001b[0m \u001b[0;34m\"{0} called\"\u001b[0m\u001b[0;34m.\u001b[0m\u001b[0mformat\u001b[0m\u001b[0;34m(\u001b[0m\u001b[0msys\u001b[0m\u001b[0;34m.\u001b[0m\u001b[0m_getframe\u001b[0m\u001b[0;34m(\u001b[0m\u001b[0;34m)\u001b[0m\u001b[0;34m.\u001b[0m\u001b[0mf_code\u001b[0m\u001b[0;34m.\u001b[0m\u001b[0mco_name\u001b[0m\u001b[0;34m)\u001b[0m\u001b[0;34m\u001b[0m\u001b[0m\n",
      "\u001b[0;31mTypeError\u001b[0m: parameterized_invocation_callable_decorator() takes no arguments (1 given)"
     ]
    }
   ],
   "source": [
    "def parameterized_invocation_callable_decorator(debug=False):\n",
    "    decorator_name = sys._getframe().f_code.co_name \n",
    "    print \"def time: {0}()\".format(decorator_name)\n",
    "    print \"debug={0}\" % debug\n",
    "        \n",
    "    def simple_call_decorator(F):\n",
    "        decorator_name = sys._getframe().f_code.co_name \n",
    "        function_name = F.__name__\n",
    "        print \"def time: {0} for {1}\".format(decorator_name, function_name)\n",
    "    \n",
    "        def wrapper():\n",
    "            msg = \"call time: {0}\"\n",
    "            print msg.format(F.__name__)\n",
    "            F()\n",
    "    \n",
    "        return wrapper\n",
    "    \n",
    "    return simple_call_decorator\n",
    "\n",
    "@parameterized_invocation_callable_decorator(debug=True)\n",
    "def func3():\n",
    "    print \"{0} called\".format(sys._getframe().f_code.co_name)\n",
    "    \n",
    "func3()"
   ]
  },
  {
   "cell_type": "code",
   "execution_count": null,
   "metadata": {
    "collapsed": true
   },
   "outputs": [],
   "source": []
  }
 ],
 "metadata": {
  "kernelspec": {
   "display_name": "Python 2",
   "language": "python",
   "name": "python2"
  },
  "language_info": {
   "codemirror_mode": {
    "name": "ipython",
    "version": 2
   },
   "file_extension": ".py",
   "mimetype": "text/x-python",
   "name": "python",
   "nbconvert_exporter": "python",
   "pygments_lexer": "ipython2",
   "version": "2.7.10"
  }
 },
 "nbformat": 4,
 "nbformat_minor": 0
}
