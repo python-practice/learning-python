{
 "cells": [
  {
   "cell_type": "markdown",
   "metadata": {},
   "source": [
    "###Two flavors of Python decorators:\n",
    "\n",
    "* *Function decorators*\n",
    "* *Class decorators* "
   ]
  },
  {
   "cell_type": "markdown",
   "metadata": {},
   "source": [
    "##Roles\n",
    "###Wrapper/Proxy objects\n",
    "* Call proxies\n",
    "* Interface proxies\n",
    "###Managing Functions and Classes\n",
    "* Function managers\n",
    "* Class managers"
   ]
  },
  {
   "cell_type": "code",
   "execution_count": null,
   "metadata": {
    "collapsed": true
   },
   "outputs": [],
   "source": []
  }
 ],
 "metadata": {
  "kernelspec": {
   "display_name": "Python 2",
   "language": "python",
   "name": "python2"
  },
  "language_info": {
   "codemirror_mode": {
    "name": "ipython",
    "version": 2
   },
   "file_extension": ".py",
   "mimetype": "text/x-python",
   "name": "python",
   "nbconvert_exporter": "python",
   "pygments_lexer": "ipython2",
   "version": "2.7.10"
  }
 },
 "nbformat": 4,
 "nbformat_minor": 0
}
